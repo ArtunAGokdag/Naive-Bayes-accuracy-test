{
 "cells": [
  {
   "cell_type": "code",
   "execution_count": 22,
   "metadata": {},
   "outputs": [],
   "source": [
    "import pandas as pd\n",
    "import numpy as np\n",
    "from sklearn.naive_bayes import GaussianNB\n",
    "from sklearn.preprocessing import OneHotEncoder, LabelEncoder, MinMaxScaler"
   ]
  },
  {
   "cell_type": "code",
   "execution_count": 23,
   "metadata": {},
   "outputs": [],
   "source": [
    "# Load data from file\n",
    "test_df = pd.read_csv('testSet.csv', na_values=['?'])\n",
    "train_df = pd.read_csv('trainSet.csv', na_values=['?'])\n"
   ]
  },
  {
   "cell_type": "markdown",
   "metadata": {},
   "source": [
    "### Preprocessing The Data"
   ]
  },
  {
   "cell_type": "markdown",
   "metadata": {},
   "source": [
    "#### Turning all variables to float64\n",
    "Mapping all ordinal values to integers, one-hot encoding for nominal values\n",
    "\n",
    "- credit_history: ordinal\n",
    "    - 5: all paid\n",
    "    - 4: existing paid\n",
    "    - 3: no credits/all paid\n",
    "    - 2: delayed previously\n",
    "    - 1: critical/other existing credit\n",
    "    \n",
    "<br>\n",
    "\n",
    "- employment: ordinal\n",
    "    - 4: >=7\n",
    "    - 3: 4<=X<7\n",
    "    - 2: 1<=X<4\n",
    "    - 1: <1\n",
    "    - 0: unemployed\n",
    "    \n",
    "<br>\n",
    "\n",
    "- property_magnitude: nominal\n",
    "    - one-hot encoding\n",
    "\n",
    "appending new encoded variables to the end of the dataframe in order to keep integrity of data"
   ]
  },
  {
   "cell_type": "code",
   "execution_count": 24,
   "metadata": {},
   "outputs": [
    {
     "data": {
      "text/html": [
       "<div>\n",
       "<style scoped>\n",
       "    .dataframe tbody tr th:only-of-type {\n",
       "        vertical-align: middle;\n",
       "    }\n",
       "\n",
       "    .dataframe tbody tr th {\n",
       "        vertical-align: top;\n",
       "    }\n",
       "\n",
       "    .dataframe thead th {\n",
       "        text-align: right;\n",
       "    }\n",
       "</style>\n",
       "<table border=\"1\" class=\"dataframe\">\n",
       "  <thead>\n",
       "    <tr style=\"text-align: right;\">\n",
       "      <th></th>\n",
       "      <th>credit_history</th>\n",
       "      <th>credit_amount</th>\n",
       "      <th>employment</th>\n",
       "      <th>property_magnitude</th>\n",
       "      <th>age</th>\n",
       "      <th>class</th>\n",
       "      <th>'life insurance'</th>\n",
       "      <th>'no known property'</th>\n",
       "      <th>'real estate'</th>\n",
       "      <th>car</th>\n",
       "      <th>NaN</th>\n",
       "    </tr>\n",
       "  </thead>\n",
       "  <tbody>\n",
       "    <tr>\n",
       "      <th>0</th>\n",
       "      <td>'existing paid'</td>\n",
       "      <td>10366.0</td>\n",
       "      <td>&gt;=7</td>\n",
       "      <td>'life insurance'</td>\n",
       "      <td>42.0</td>\n",
       "      <td>good</td>\n",
       "      <td>1.0</td>\n",
       "      <td>0.0</td>\n",
       "      <td>0.0</td>\n",
       "      <td>0.0</td>\n",
       "      <td>0.0</td>\n",
       "    </tr>\n",
       "    <tr>\n",
       "      <th>1</th>\n",
       "      <td>'critical/other existing credit'</td>\n",
       "      <td>1872.0</td>\n",
       "      <td>unemployed</td>\n",
       "      <td>'no known property'</td>\n",
       "      <td>36.0</td>\n",
       "      <td>good</td>\n",
       "      <td>0.0</td>\n",
       "      <td>1.0</td>\n",
       "      <td>0.0</td>\n",
       "      <td>0.0</td>\n",
       "      <td>0.0</td>\n",
       "    </tr>\n",
       "    <tr>\n",
       "      <th>2</th>\n",
       "      <td>'existing paid'</td>\n",
       "      <td>6758.0</td>\n",
       "      <td>1&lt;=X&lt;4</td>\n",
       "      <td>car</td>\n",
       "      <td>31.0</td>\n",
       "      <td>bad</td>\n",
       "      <td>0.0</td>\n",
       "      <td>0.0</td>\n",
       "      <td>0.0</td>\n",
       "      <td>1.0</td>\n",
       "      <td>0.0</td>\n",
       "    </tr>\n",
       "    <tr>\n",
       "      <th>3</th>\n",
       "      <td>'existing paid'</td>\n",
       "      <td>3857.0</td>\n",
       "      <td>1&lt;=X&lt;4</td>\n",
       "      <td>'life insurance'</td>\n",
       "      <td>40.0</td>\n",
       "      <td>good</td>\n",
       "      <td>1.0</td>\n",
       "      <td>0.0</td>\n",
       "      <td>0.0</td>\n",
       "      <td>0.0</td>\n",
       "      <td>0.0</td>\n",
       "    </tr>\n",
       "    <tr>\n",
       "      <th>4</th>\n",
       "      <td>'existing paid'</td>\n",
       "      <td>3190.0</td>\n",
       "      <td>1&lt;=X&lt;4</td>\n",
       "      <td>'real estate'</td>\n",
       "      <td>24.0</td>\n",
       "      <td>bad</td>\n",
       "      <td>0.0</td>\n",
       "      <td>0.0</td>\n",
       "      <td>1.0</td>\n",
       "      <td>0.0</td>\n",
       "      <td>0.0</td>\n",
       "    </tr>\n",
       "  </tbody>\n",
       "</table>\n",
       "</div>"
      ],
      "text/plain": [
       "                     credit_history  credit_amount  employment  \\\n",
       "0                   'existing paid'        10366.0         >=7   \n",
       "1  'critical/other existing credit'         1872.0  unemployed   \n",
       "2                   'existing paid'         6758.0      1<=X<4   \n",
       "3                   'existing paid'         3857.0      1<=X<4   \n",
       "4                   'existing paid'         3190.0      1<=X<4   \n",
       "\n",
       "    property_magnitude   age class  'life insurance'  'no known property'  \\\n",
       "0     'life insurance'  42.0  good               1.0                  0.0   \n",
       "1  'no known property'  36.0  good               0.0                  1.0   \n",
       "2                  car  31.0   bad               0.0                  0.0   \n",
       "3     'life insurance'  40.0  good               1.0                  0.0   \n",
       "4        'real estate'  24.0   bad               0.0                  0.0   \n",
       "\n",
       "   'real estate'  car  NaN  \n",
       "0            0.0  0.0  0.0  \n",
       "1            0.0  0.0  0.0  \n",
       "2            0.0  1.0  0.0  \n",
       "3            0.0  0.0  0.0  \n",
       "4            1.0  0.0  0.0  "
      ]
     },
     "execution_count": 24,
     "metadata": {},
     "output_type": "execute_result"
    }
   ],
   "source": [
    "# Dummy encoding property_magnitude\n",
    "# For train set\n",
    "ohe = OneHotEncoder(sparse=False)\n",
    "encoded_array = ohe.fit_transform(train_df[['property_magnitude']])\n",
    "\n",
    "labels = np.array(ohe.categories_).ravel()\n",
    "encoded_df = pd.DataFrame(encoded_array, columns=labels)\n",
    "train_df = pd.concat([train_df, encoded_df], axis=1)\n",
    "train_df\n",
    "\n",
    "# For test set\n",
    "ohe = OneHotEncoder(sparse=False)\n",
    "encoded_array = ohe.fit_transform(test_df[['property_magnitude']])\n",
    "\n",
    "labels = np.array(ohe.categories_).ravel()\n",
    "encoded_df = pd.DataFrame(encoded_array, columns=labels)\n",
    "test_df = pd.concat([test_df, encoded_df], axis=1)\n",
    "test_df.head()"
   ]
  },
  {
   "cell_type": "code",
   "execution_count": 25,
   "metadata": {},
   "outputs": [
    {
     "data": {
      "text/html": [
       "<div>\n",
       "<style scoped>\n",
       "    .dataframe tbody tr th:only-of-type {\n",
       "        vertical-align: middle;\n",
       "    }\n",
       "\n",
       "    .dataframe tbody tr th {\n",
       "        vertical-align: top;\n",
       "    }\n",
       "\n",
       "    .dataframe thead th {\n",
       "        text-align: right;\n",
       "    }\n",
       "</style>\n",
       "<table border=\"1\" class=\"dataframe\">\n",
       "  <thead>\n",
       "    <tr style=\"text-align: right;\">\n",
       "      <th></th>\n",
       "      <th>credit_history</th>\n",
       "      <th>credit_amount</th>\n",
       "      <th>employment</th>\n",
       "      <th>property_magnitude</th>\n",
       "      <th>age</th>\n",
       "      <th>class</th>\n",
       "      <th>'life insurance'</th>\n",
       "      <th>'no known property'</th>\n",
       "      <th>'real estate'</th>\n",
       "      <th>car</th>\n",
       "      <th>NaN</th>\n",
       "      <th>employment_mapped</th>\n",
       "    </tr>\n",
       "  </thead>\n",
       "  <tbody>\n",
       "    <tr>\n",
       "      <th>0</th>\n",
       "      <td>'existing paid'</td>\n",
       "      <td>10366.0</td>\n",
       "      <td>&gt;=7</td>\n",
       "      <td>'life insurance'</td>\n",
       "      <td>42.0</td>\n",
       "      <td>good</td>\n",
       "      <td>1.0</td>\n",
       "      <td>0.0</td>\n",
       "      <td>0.0</td>\n",
       "      <td>0.0</td>\n",
       "      <td>0.0</td>\n",
       "      <td>2</td>\n",
       "    </tr>\n",
       "    <tr>\n",
       "      <th>1</th>\n",
       "      <td>'critical/other existing credit'</td>\n",
       "      <td>1872.0</td>\n",
       "      <td>unemployed</td>\n",
       "      <td>'no known property'</td>\n",
       "      <td>36.0</td>\n",
       "      <td>good</td>\n",
       "      <td>0.0</td>\n",
       "      <td>1.0</td>\n",
       "      <td>0.0</td>\n",
       "      <td>0.0</td>\n",
       "      <td>0.0</td>\n",
       "      <td>4</td>\n",
       "    </tr>\n",
       "    <tr>\n",
       "      <th>2</th>\n",
       "      <td>'existing paid'</td>\n",
       "      <td>6758.0</td>\n",
       "      <td>1&lt;=X&lt;4</td>\n",
       "      <td>car</td>\n",
       "      <td>31.0</td>\n",
       "      <td>bad</td>\n",
       "      <td>0.0</td>\n",
       "      <td>0.0</td>\n",
       "      <td>0.0</td>\n",
       "      <td>1.0</td>\n",
       "      <td>0.0</td>\n",
       "      <td>4</td>\n",
       "    </tr>\n",
       "    <tr>\n",
       "      <th>3</th>\n",
       "      <td>'existing paid'</td>\n",
       "      <td>3857.0</td>\n",
       "      <td>1&lt;=X&lt;4</td>\n",
       "      <td>'life insurance'</td>\n",
       "      <td>40.0</td>\n",
       "      <td>good</td>\n",
       "      <td>1.0</td>\n",
       "      <td>0.0</td>\n",
       "      <td>0.0</td>\n",
       "      <td>0.0</td>\n",
       "      <td>0.0</td>\n",
       "      <td>2</td>\n",
       "    </tr>\n",
       "    <tr>\n",
       "      <th>4</th>\n",
       "      <td>'existing paid'</td>\n",
       "      <td>3190.0</td>\n",
       "      <td>1&lt;=X&lt;4</td>\n",
       "      <td>'real estate'</td>\n",
       "      <td>24.0</td>\n",
       "      <td>bad</td>\n",
       "      <td>0.0</td>\n",
       "      <td>0.0</td>\n",
       "      <td>1.0</td>\n",
       "      <td>0.0</td>\n",
       "      <td>0.0</td>\n",
       "      <td>4</td>\n",
       "    </tr>\n",
       "  </tbody>\n",
       "</table>\n",
       "</div>"
      ],
      "text/plain": [
       "                     credit_history  credit_amount  employment  \\\n",
       "0                   'existing paid'        10366.0         >=7   \n",
       "1  'critical/other existing credit'         1872.0  unemployed   \n",
       "2                   'existing paid'         6758.0      1<=X<4   \n",
       "3                   'existing paid'         3857.0      1<=X<4   \n",
       "4                   'existing paid'         3190.0      1<=X<4   \n",
       "\n",
       "    property_magnitude   age class  'life insurance'  'no known property'  \\\n",
       "0     'life insurance'  42.0  good               1.0                  0.0   \n",
       "1  'no known property'  36.0  good               0.0                  1.0   \n",
       "2                  car  31.0   bad               0.0                  0.0   \n",
       "3     'life insurance'  40.0  good               1.0                  0.0   \n",
       "4        'real estate'  24.0   bad               0.0                  0.0   \n",
       "\n",
       "   'real estate'  car  NaN  employment_mapped  \n",
       "0            0.0  0.0  0.0                  2  \n",
       "1            0.0  0.0  0.0                  4  \n",
       "2            0.0  1.0  0.0                  4  \n",
       "3            0.0  0.0  0.0                  2  \n",
       "4            1.0  0.0  0.0                  4  "
      ]
     },
     "execution_count": 25,
     "metadata": {},
     "output_type": "execute_result"
    }
   ],
   "source": [
    "\n",
    "# Map employment\n",
    "# For train\n",
    "train_df['employment_mapped'] = train_df['employment'].map({\n",
    "    '>=7' : 4,\n",
    "    '4<=X<7' : 3,\n",
    "    '1<=X<4': 2,\n",
    "    '<1' : 1,\n",
    "    'unemployed' : 0\n",
    "})\n",
    "#for test\n",
    "test_df['employment_mapped'] = train_df['employment'].map({\n",
    "    '>=7' : 4,\n",
    "    '4<=X<7' : 3,\n",
    "    '1<=X<4': 2,\n",
    "    '<1' : 1,\n",
    "    'unemployed' : 0\n",
    "})\n",
    "test_df.head()"
   ]
  },
  {
   "cell_type": "code",
   "execution_count": 26,
   "metadata": {},
   "outputs": [],
   "source": [
    "# Map Credit History\n",
    "# For train\n",
    "train_df['credit_history_mapped'] = train_df['credit_history'].map({\n",
    "    \"'all paid'\": 5,\n",
    "    \"'existing paid'\": 4,\n",
    "    \"'no credits/all paid'\": 3,\n",
    "    \"'delayed previously'\": 2,\n",
    "    \"'critical/other existing credit'\": 1\n",
    "})\n",
    "#for test\n",
    "test_df['credit_history_mapped'] = test_df['credit_history'].map({\n",
    "    \"'all paid'\": 5,\n",
    "    \"'existing paid'\": 4,\n",
    "    \"'no credits/all paid'\": 3,\n",
    "    \"'delayed previously'\": 2,\n",
    "    \"'critical/other existing credit'\": 1\n",
    "})"
   ]
  },
  {
   "cell_type": "markdown",
   "metadata": {},
   "source": [
    "#### Remove Missing Values\n",
    "Because the instances of samples which has a missing attribute are few,\n",
    "these samples can be deleted"
   ]
  },
  {
   "cell_type": "code",
   "execution_count": 27,
   "metadata": {},
   "outputs": [
    {
     "data": {
      "text/plain": [
       "credit_history           6\n",
       "credit_amount            2\n",
       "employment               3\n",
       "property_magnitude       5\n",
       "age                      6\n",
       "class                    0\n",
       "'life insurance'         0\n",
       "'no known property'      0\n",
       "'real estate'            0\n",
       "car                      0\n",
       "NaN                      0\n",
       "employment_mapped        0\n",
       "credit_history_mapped    6\n",
       "dtype: int64"
      ]
     },
     "execution_count": 27,
     "metadata": {},
     "output_type": "execute_result"
    }
   ],
   "source": [
    "# Check amount of null variables\n",
    "train_df.isnull().sum()\n",
    "test_df.isnull().sum()"
   ]
  },
  {
   "cell_type": "code",
   "execution_count": 28,
   "metadata": {},
   "outputs": [
    {
     "data": {
      "text/plain": [
       "credit_history           0\n",
       "credit_amount            0\n",
       "employment               0\n",
       "property_magnitude       0\n",
       "age                      0\n",
       "class                    0\n",
       "'life insurance'         0\n",
       "'no known property'      0\n",
       "'real estate'            0\n",
       "car                      0\n",
       "NaN                      0\n",
       "employment_mapped        0\n",
       "credit_history_mapped    0\n",
       "dtype: int64"
      ]
     },
     "execution_count": 28,
     "metadata": {},
     "output_type": "execute_result"
    }
   ],
   "source": [
    "# Remove samples which has a missing value\n",
    "train_df = train_df.dropna()\n",
    "test_df = test_df.dropna()\n",
    "test_df.isnull().sum()"
   ]
  },
  {
   "cell_type": "markdown",
   "metadata": {},
   "source": [
    "Split the dataset dependent and independet variables\n",
    "\n",
    "Y sets are for class variable, X for decision variables"
   ]
  },
  {
   "cell_type": "code",
   "execution_count": 29,
   "metadata": {},
   "outputs": [
    {
     "data": {
      "text/html": [
       "<div>\n",
       "<style scoped>\n",
       "    .dataframe tbody tr th:only-of-type {\n",
       "        vertical-align: middle;\n",
       "    }\n",
       "\n",
       "    .dataframe tbody tr th {\n",
       "        vertical-align: top;\n",
       "    }\n",
       "\n",
       "    .dataframe thead th {\n",
       "        text-align: right;\n",
       "    }\n",
       "</style>\n",
       "<table border=\"1\" class=\"dataframe\">\n",
       "  <thead>\n",
       "    <tr style=\"text-align: right;\">\n",
       "      <th></th>\n",
       "      <th>'life insurance'</th>\n",
       "      <th>'no known property'</th>\n",
       "      <th>'real estate'</th>\n",
       "      <th>car</th>\n",
       "      <th>employment_mapped</th>\n",
       "      <th>credit_history_mapped</th>\n",
       "      <th>credit_amount</th>\n",
       "      <th>age</th>\n",
       "    </tr>\n",
       "  </thead>\n",
       "  <tbody>\n",
       "    <tr>\n",
       "      <th>0</th>\n",
       "      <td>1.0</td>\n",
       "      <td>0.0</td>\n",
       "      <td>0.0</td>\n",
       "      <td>0.0</td>\n",
       "      <td>2</td>\n",
       "      <td>4.0</td>\n",
       "      <td>1924.0</td>\n",
       "      <td>38.0</td>\n",
       "    </tr>\n",
       "    <tr>\n",
       "      <th>1</th>\n",
       "      <td>0.0</td>\n",
       "      <td>1.0</td>\n",
       "      <td>0.0</td>\n",
       "      <td>0.0</td>\n",
       "      <td>4</td>\n",
       "      <td>4.0</td>\n",
       "      <td>7297.0</td>\n",
       "      <td>36.0</td>\n",
       "    </tr>\n",
       "    <tr>\n",
       "      <th>2</th>\n",
       "      <td>0.0</td>\n",
       "      <td>0.0</td>\n",
       "      <td>1.0</td>\n",
       "      <td>0.0</td>\n",
       "      <td>4</td>\n",
       "      <td>4.0</td>\n",
       "      <td>1278.0</td>\n",
       "      <td>36.0</td>\n",
       "    </tr>\n",
       "    <tr>\n",
       "      <th>3</th>\n",
       "      <td>0.0</td>\n",
       "      <td>0.0</td>\n",
       "      <td>1.0</td>\n",
       "      <td>0.0</td>\n",
       "      <td>2</td>\n",
       "      <td>4.0</td>\n",
       "      <td>2039.0</td>\n",
       "      <td>20.0</td>\n",
       "    </tr>\n",
       "    <tr>\n",
       "      <th>4</th>\n",
       "      <td>1.0</td>\n",
       "      <td>0.0</td>\n",
       "      <td>0.0</td>\n",
       "      <td>0.0</td>\n",
       "      <td>4</td>\n",
       "      <td>1.0</td>\n",
       "      <td>4272.0</td>\n",
       "      <td>24.0</td>\n",
       "    </tr>\n",
       "  </tbody>\n",
       "</table>\n",
       "</div>"
      ],
      "text/plain": [
       "   'life insurance'  'no known property'  'real estate'  car  \\\n",
       "0               1.0                  0.0            0.0  0.0   \n",
       "1               0.0                  1.0            0.0  0.0   \n",
       "2               0.0                  0.0            1.0  0.0   \n",
       "3               0.0                  0.0            1.0  0.0   \n",
       "4               1.0                  0.0            0.0  0.0   \n",
       "\n",
       "   employment_mapped  credit_history_mapped  credit_amount   age  \n",
       "0                  2                    4.0         1924.0  38.0  \n",
       "1                  4                    4.0         7297.0  36.0  \n",
       "2                  4                    4.0         1278.0  36.0  \n",
       "3                  2                    4.0         2039.0  20.0  \n",
       "4                  4                    1.0         4272.0  24.0  "
      ]
     },
     "execution_count": 29,
     "metadata": {},
     "output_type": "execute_result"
    }
   ],
   "source": [
    "#Split the dataset dependent and independet variables\n",
    "x_train = train_df[[\"'life insurance'\",\n",
    "                    \"'no known property'\", \n",
    "                    \"'real estate'\", 'car', \n",
    "                    'employment_mapped', \n",
    "                    'credit_history_mapped',\n",
    "                    'credit_amount',\n",
    "                    'age']]\n",
    "\n",
    "x_test = test_df[[\"'life insurance'\",\n",
    "                    \"'no known property'\", \n",
    "                    \"'real estate'\", 'car', \n",
    "                    'employment_mapped', \n",
    "                    'credit_history_mapped',\n",
    "                    'credit_amount',\n",
    "                    'age']]\n",
    "\n",
    "y_train = train_df.loc[:, 'class']\n",
    "y_test = test_df.loc[:, 'class']\n",
    "\n",
    "x_train.head()"
   ]
  },
  {
   "cell_type": "markdown",
   "metadata": {},
   "source": [
    "##### Normailize Values\n",
    "using min-max normalization from sci-kit learn"
   ]
  },
  {
   "cell_type": "code",
   "execution_count": 30,
   "metadata": {},
   "outputs": [],
   "source": [
    "# For train\n",
    "scaler = MinMaxScaler()\n",
    "scaler.fit(x_train)\n",
    "scaled = scaler.fit_transform(x_train)\n",
    "x_train_norm = pd.DataFrame(scaled, columns=x_train.columns)\n",
    "# for test\n",
    "scaler = MinMaxScaler()\n",
    "scaler.fit(x_test)\n",
    "scaled = scaler.fit_transform(x_test)\n",
    "x_test_norm = pd.DataFrame(scaled, columns=x_test.columns)"
   ]
  },
  {
   "cell_type": "code",
   "execution_count": 31,
   "metadata": {},
   "outputs": [
    {
     "data": {
      "text/plain": [
       "0    1\n",
       "1    0\n",
       "2    1\n",
       "3    0\n",
       "4    1\n",
       "Name: class, dtype: int64"
      ]
     },
     "execution_count": 31,
     "metadata": {},
     "output_type": "execute_result"
    }
   ],
   "source": [
    "# Turn string values in class variable to integer\n",
    "y_train = y_train.map({'good' : 1, 'bad': 0})\n",
    "y_test = y_test.map({'good' : 1, 'bad': 0})\n",
    "y_train.head()"
   ]
  },
  {
   "cell_type": "markdown",
   "metadata": {},
   "source": [
    "#### Train Model\n",
    "Gaussian Naive Bayes from sci-kit learn library"
   ]
  },
  {
   "cell_type": "code",
   "execution_count": 32,
   "metadata": {},
   "outputs": [],
   "source": [
    "model = GaussianNB()\n",
    "model.fit(x_train_norm, y_train)\n",
    "# get prediction values in y_pred\n",
    "y_pred = model.predict(x_test_norm)\n",
    "y_true = np.array(y_test) # actual values"
   ]
  },
  {
   "cell_type": "markdown",
   "metadata": {},
   "source": [
    "#### Run Tests"
   ]
  },
  {
   "cell_type": "code",
   "execution_count": 33,
   "metadata": {},
   "outputs": [],
   "source": [
    "# HELPERS\n",
    "def accuracy(y_true, y_pred):\n",
    "\taccuracy = np.sum(y_true == y_pred) / len(y_true)\n",
    "\treturn accuracy\n"
   ]
  },
  {
   "cell_type": "markdown",
   "metadata": {},
   "source": [
    "### Test Results"
   ]
  },
  {
   "cell_type": "code",
   "execution_count": 34,
   "metadata": {},
   "outputs": [
    {
     "data": {
      "text/plain": [
       "0.6447368421052632"
      ]
     },
     "execution_count": 34,
     "metadata": {},
     "output_type": "execute_result"
    }
   ],
   "source": [
    "accuracy(y_true, y_pred)"
   ]
  },
  {
   "cell_type": "code",
   "execution_count": 35,
   "metadata": {},
   "outputs": [
    {
     "data": {
      "text/plain": [
       "132"
      ]
     },
     "execution_count": 35,
     "metadata": {},
     "output_type": "execute_result"
    }
   ],
   "source": [
    "# TRUE POSITIVE\n",
    "# Where both are 1\n",
    "TP = np.sum(np.logical_and(y_pred == 1, y_true == 1)) # where both must equal 1\n",
    "TP"
   ]
  },
  {
   "cell_type": "code",
   "execution_count": 36,
   "metadata": {},
   "outputs": [
    {
     "data": {
      "text/plain": [
       "15"
      ]
     },
     "execution_count": 36,
     "metadata": {},
     "output_type": "execute_result"
    }
   ],
   "source": [
    "# TRUE NEGATIVE\n",
    "# Where both are 0\n",
    "TN = np.sum(np.logical_and(y_pred == 0, y_true == 0))\n",
    "TN"
   ]
  },
  {
   "cell_type": "code",
   "execution_count": 37,
   "metadata": {},
   "outputs": [
    {
     "data": {
      "text/plain": [
       "55"
      ]
     },
     "execution_count": 37,
     "metadata": {},
     "output_type": "execute_result"
    }
   ],
   "source": [
    "# FALSE POSITIVE\n",
    "# where prediction is 1 and ture is 0\n",
    "FP = np.sum(np.logical_and(y_pred == 1, y_true == 0))\n",
    "FP"
   ]
  },
  {
   "cell_type": "code",
   "execution_count": 38,
   "metadata": {},
   "outputs": [
    {
     "data": {
      "text/plain": [
       "26"
      ]
     },
     "execution_count": 38,
     "metadata": {},
     "output_type": "execute_result"
    }
   ],
   "source": [
    "# FALSE NEGATIVE\n",
    "# Where prediction is 0 and true is 1\n",
    "FN = np.sum(np.logical_and(y_pred == 0, y_true == 1))\n",
    "FN"
   ]
  },
  {
   "cell_type": "code",
   "execution_count": 39,
   "metadata": {},
   "outputs": [
    {
     "data": {
      "text/plain": [
       "0.6447368421052632"
      ]
     },
     "execution_count": 39,
     "metadata": {},
     "output_type": "execute_result"
    }
   ],
   "source": [
    "# Alternative way to calculate accuracy\n",
    "(TN + TP) / len(y_pred)"
   ]
  },
  {
   "cell_type": "code",
   "execution_count": 40,
   "metadata": {},
   "outputs": [
    {
     "data": {
      "text/plain": [
       "0.8354430379746836"
      ]
     },
     "execution_count": 40,
     "metadata": {},
     "output_type": "execute_result"
    }
   ],
   "source": [
    "# TRUE POSITIVE RATE\n",
    "TP / (TP + FN)\n"
   ]
  },
  {
   "cell_type": "code",
   "execution_count": 41,
   "metadata": {},
   "outputs": [
    {
     "data": {
      "text/plain": [
       "0.21428571428571427"
      ]
     },
     "execution_count": 41,
     "metadata": {},
     "output_type": "execute_result"
    }
   ],
   "source": [
    "# TRUE NEGATIVE RATE\n",
    "TN / (TN + FP)"
   ]
  },
  {
   "cell_type": "markdown",
   "metadata": {},
   "source": [
    "Used np.logical_and as a way of using 2 conditions in np.sum"
   ]
  }
 ],
 "metadata": {
  "kernelspec": {
   "display_name": "Python 3.10.4 ('data-science-venv')",
   "language": "python",
   "name": "python3"
  },
  "language_info": {
   "codemirror_mode": {
    "name": "ipython",
    "version": 3
   },
   "file_extension": ".py",
   "mimetype": "text/x-python",
   "name": "python",
   "nbconvert_exporter": "python",
   "pygments_lexer": "ipython3",
   "version": "3.10.8"
  },
  "orig_nbformat": 4,
  "vscode": {
   "interpreter": {
    "hash": "4842540ebd4206e1caf3900ba09f7410d3984f1ce8e439433c70d20d7e3ef7bc"
   }
  }
 },
 "nbformat": 4,
 "nbformat_minor": 2
}
